{
 "cells": [
  {
   "cell_type": "code",
   "execution_count": 71,
   "metadata": {},
   "outputs": [
    {
     "name": "stdout",
     "output_type": "stream",
     "text": [
      "Velocidad promedio: 6.066666666666666\n",
      "VARIANZA: 6.537853107344633\n",
      "DESVIACION ESTANDAR: 2.5569225853249122\n",
      "[-8.04624006e+00 -1.03513795e+01 -6.33635954e+00 -6.53395204e-01\n",
      " -1.94969272e-04  1.94543884e-01  1.29684697e+00  7.54921021e+00\n",
      "  7.28047166e+00  4.30943063e+01]\n",
      "Skew: 0.5671301632918211\n",
      "Kurtosis -0.7555963753806649\n"
     ]
    }
   ],
   "source": [
    "import numpy as np\n",
    "from math import*\n",
    "a=np.array([2,6,12,9,11,4,3,5,2,6])\n",
    "v=np.array([2,3,4,5,6,7,8,9,10,11])\n",
    "\n",
    "#Velocidad Promedio\n",
    "d=sum(a*v)/sum(a)\n",
    "print(\"Velocidad promedio:\",d)\n",
    "\n",
    "#Varianza\n",
    "h=(v-d)\n",
    "for i in range(0,len(h)):\n",
    "    h[i]=h[i]*h[i]\n",
    "c=a*h\n",
    "Var=sum(c)/(sum(a)-1)\n",
    "print(\"VARIANZA:\",Var)\n",
    "\n",
    "#Desviacion Estandar\n",
    "DE=sqrt(Var)\n",
    "print(\"DESVIACION ESTANDAR:\",DE)\n",
    "\n",
    "#Skew\n",
    "h=(v-d)/DE\n",
    "for i in range(0,len(h)):\n",
    "    h[i]=h[i]*h[i]*h[i]\n",
    "c=a*h\n",
    "Sk=sum(c)/sum(a)\n",
    "print(\"Skew:\",Sk)\n",
    "\n",
    "#Kurtosis\n",
    "h=(v-d)/DE\n",
    "for i in range(0,len(h)):\n",
    "    h[i]=h[i]*h[i]*h[i]*h[i]\n",
    "c=a*h\n",
    "Ku=(sum(c)/sum(a))-3\n",
    "print(\"Kurtosis\",Ku)"
   ]
  },
  {
   "cell_type": "code",
   "execution_count": null,
   "metadata": {},
   "outputs": [],
   "source": []
  }
 ],
 "metadata": {
  "kernelspec": {
   "display_name": "Python 3",
   "language": "python",
   "name": "python3"
  },
  "language_info": {
   "codemirror_mode": {
    "name": "ipython",
    "version": 3
   },
   "file_extension": ".py",
   "mimetype": "text/x-python",
   "name": "python",
   "nbconvert_exporter": "python",
   "pygments_lexer": "ipython3",
   "version": "3.5.2"
  }
 },
 "nbformat": 4,
 "nbformat_minor": 2
}
